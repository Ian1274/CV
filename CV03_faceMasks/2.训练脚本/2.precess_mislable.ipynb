{
 "cells": [
  {
   "cell_type": "code",
   "execution_count": 1,
   "metadata": {},
   "outputs": [],
   "source": [
    "# 处理标错的人脸\n",
    "\n",
    "# 1.清洗文件夹下的数据：找出某个人文件夹下图片中明显与其他图片不一致的图\n",
    "# 2.选择一张图片A作为target，其他图片B、C、D作为对照，计算该组的平均欧式距离d_A = （d(AB)+d(AC)+d(AD)）/ 3\n",
    "# 3.再选择B做为target，其他图A、C、D作为对照，计算平均欧式距离d_B，以此类推\n",
    "# 4.如果d_A大于阈值，则删除A\n",
    "# 5.其他文件夹类似处理"
   ]
  },
  {
   "cell_type": "code",
   "execution_count": 2,
   "metadata": {},
   "outputs": [],
   "source": [
    "# 计算欧式距离"
   ]
  },
  {
   "cell_type": "code",
   "execution_count": 3,
   "metadata": {},
   "outputs": [],
   "source": [
    "# 导入包\n",
    "import cv2\n",
    "import numpy as np\n",
    "import matplotlib.pyplot as plt\n",
    "import dlib\n",
    "# %matplotlib inline\n",
    "plt.rcParams['figure.dpi'] = 200"
   ]
  },
  {
   "cell_type": "code",
   "execution_count": 4,
   "metadata": {},
   "outputs": [],
   "source": [
    "# 关键点 检测模型\n",
    "shape_detector = dlib.shape_predictor('./weights/shape_predictor_68_face_landmarks.dat')\n",
    "# resnet模型\n",
    "face_descriptor_extractor = dlib.face_recognition_model_v1('./weights/dlib_face_recognition_resnet_model_v1.dat')"
   ]
  },
  {
   "cell_type": "code",
   "execution_count": 5,
   "metadata": {},
   "outputs": [],
   "source": [
    "# 提取单张图片的特征描述符\n",
    "def getFaceFeat(fileName):\n",
    "    \n",
    "    #读取\n",
    "    img=cv2.imdecode(np.fromfile(fileName,dtype=np.uint8),-1)\n",
    "    if img is None:\n",
    "        return None\n",
    "    \n",
    "    # 转为RGB\n",
    "    img = cv2.cvtColor(img,cv2.COLOR_BGR2RGB)\n",
    "    # 初始化\n",
    "    face_descriptor = None\n",
    "    # 整个裁剪图就是人脸，无需再检测\n",
    "    h,w = img.shape[:2]\n",
    "    l,t,r,b = 0,0,w,h\n",
    "    # 构造DLIB类型\n",
    "    face = dlib.rectangle(l,t,r,b) \n",
    "    # 获取关键点\n",
    "    points = shape_detector(img,face)\n",
    "    # 获取特征描述符\n",
    "    face_descriptor = face_descriptor_extractor.compute_face_descriptor(img,points)\n",
    "    # 转为numpy 格式的数组\n",
    "    face_descriptor = [f for f in face_descriptor]\n",
    "    face_descriptor = np.asarray(face_descriptor,dtype=np.float64)\n",
    "    face_descriptor = np.reshape(face_descriptor,(1,-1))\n",
    "    \n",
    "    return face_descriptor"
   ]
  },
  {
   "cell_type": "code",
   "execution_count": 7,
   "metadata": {},
   "outputs": [],
   "source": [
    "# 测试一张\n",
    "feat_test = getFaceFeat('./chinese_faces_cleaned/阿宝/阿宝_1.jpg')"
   ]
  },
  {
   "cell_type": "code",
   "execution_count": 8,
   "metadata": {},
   "outputs": [
    {
     "data": {
      "text/plain": [
       "(1, 128)"
      ]
     },
     "execution_count": 8,
     "metadata": {},
     "output_type": "execute_result"
    }
   ],
   "source": [
    "feat_test.shape"
   ]
  },
  {
   "cell_type": "code",
   "execution_count": 9,
   "metadata": {},
   "outputs": [],
   "source": [
    "import glob, tqdm\n",
    "import shutil\n",
    "import os"
   ]
  },
  {
   "cell_type": "code",
   "execution_count": 10,
   "metadata": {},
   "outputs": [],
   "source": [
    "# 获取所有人名\n",
    "person_list = glob.glob('./chinese_faces_cleaned/*')"
   ]
  },
  {
   "cell_type": "code",
   "execution_count": 11,
   "metadata": {},
   "outputs": [
    {
     "data": {
      "text/plain": [
       "'./chinese_faces_cleaned\\\\安雅萍'"
      ]
     },
     "execution_count": 11,
     "metadata": {},
     "output_type": "execute_result"
    }
   ],
   "source": [
    "person_list[8]"
   ]
  },
  {
   "cell_type": "code",
   "execution_count": 12,
   "metadata": {},
   "outputs": [
    {
     "data": {
      "text/plain": [
       "40"
      ]
     },
     "execution_count": 12,
     "metadata": {},
     "output_type": "execute_result"
    }
   ],
   "source": [
    "len(person_list)"
   ]
  },
  {
   "cell_type": "code",
   "execution_count": 13,
   "metadata": {},
   "outputs": [
    {
     "name": "stderr",
     "output_type": "stream",
     "text": [
      " 12%|█▎        | 5/40 [00:09<01:08,  1.97s/it]"
     ]
    },
    {
     "name": "stdout",
     "output_type": "stream",
     "text": [
      "删除./chinese_faces_cleaned\\安悦溪\\安悦溪_0.jpg\n"
     ]
    },
    {
     "name": "stderr",
     "output_type": "stream",
     "text": [
      " 80%|████████  | 32/40 [00:43<00:10,  1.35s/it]"
     ]
    },
    {
     "name": "stdout",
     "output_type": "stream",
     "text": [
      "删除./chinese_faces_cleaned\\阿宝\\阿宝_0.jpg\n"
     ]
    },
    {
     "name": "stderr",
     "output_type": "stream",
     "text": [
      "100%|██████████| 40/40 [00:54<00:00,  1.36s/it]\n"
     ]
    }
   ],
   "source": [
    "# 遍历每个人的文件夹\n",
    "for person in tqdm.tqdm(person_list):\n",
    "    \n",
    "    \n",
    "    # 初始化特征列表，记录文件名\n",
    "    feature_list = None\n",
    "    record_file = []\n",
    "    # 获取该人名下的所有图片\n",
    "    file_name = person+'/*.jpg'\n",
    "    img_list = glob.glob(file_name)\n",
    "    # 遍历图片\n",
    "    for img_file in img_list:\n",
    "        # 获取每一张图片的特征\n",
    "        feat = getFaceFeat(img_file)\n",
    "        #过滤数据\n",
    "        if feat is not None: \n",
    "            \n",
    "            if feature_list is None:\n",
    "                feature_list = feat\n",
    "            else:\n",
    "                # 特征列表\n",
    "                feature_list = np.concatenate((feature_list,feat),axis=0)\n",
    "            # 记录一下文件名\n",
    "            record_file.append(img_file)\n",
    "    \n",
    "    if feature_list is None:\n",
    "        continue      \n",
    "    # 计算欧式距离\n",
    "    # 依次计算一个特征描述符与所有特征的距离\n",
    "    for i in range(len(feature_list)):\n",
    "        dist_list = np.linalg.norm((feature_list[i]-feature_list),axis=1)\n",
    "        dist_average = np.average(dist_list)\n",
    "\n",
    "        # print(dist_average)\n",
    "        #如果大于特征阈值，说明它与其他不同\n",
    "        if dist_average > 0.6:\n",
    "            \n",
    "            remove_file = record_file[i]\n",
    "            \n",
    "            # 先复制到chinese_faces_mislabeled下，再在路径中删除\n",
    "            person_class = person.split('\\\\')[-1]\n",
    "            # 创建需要保存的目录\n",
    "            save_dir = './chinese_faces_mislabeled/'+person_class\n",
    "            if not os.path.exists(save_dir):\n",
    "                os.makedirs(save_dir)\n",
    "            \n",
    "            # 复制\n",
    "            shutil.copy(remove_file, save_dir)            \n",
    "            # 删除\n",
    "            os.remove(remove_file)\n",
    "\n",
    "            print('删除'+remove_file)\n",
    "    \n",
    "        \n",
    "    # break\n",
    "    \n",
    "    "
   ]
  },
  {
   "cell_type": "code",
   "execution_count": null,
   "metadata": {},
   "outputs": [],
   "source": []
  }
 ],
 "metadata": {
  "kernelspec": {
   "display_name": "cv12_resnet",
   "language": "python",
   "name": "python3"
  },
  "language_info": {
   "codemirror_mode": {
    "name": "ipython",
    "version": 3
   },
   "file_extension": ".py",
   "mimetype": "text/x-python",
   "name": "python",
   "nbconvert_exporter": "python",
   "pygments_lexer": "ipython3",
   "version": "3.8.18"
  }
 },
 "nbformat": 4,
 "nbformat_minor": 2
}
