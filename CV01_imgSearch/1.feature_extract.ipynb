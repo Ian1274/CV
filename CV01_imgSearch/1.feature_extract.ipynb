{
 "cells": [
  {
   "cell_type": "code",
   "execution_count": 57,
   "metadata": {},
   "outputs": [],
   "source": [
    "# 为文件夹下的图片提取特征并建立索引\n",
    "# 1.遍历图片\n",
    "# 2.提取特征\n",
    "# 3.建立索引\n",
    "# 4.存储文件名与索引匹配关系\n",
    "# 5.保存索引到磁盘"
   ]
  },
  {
   "cell_type": "code",
   "execution_count": 58,
   "metadata": {},
   "outputs": [],
   "source": [
    "# 导入相关包\n",
    "import torch\n",
    "import torch.nn as nn\n",
    "import timm\n",
    "from torchvision import transforms as Transforms\n",
    "import torch.nn.functional as F\n",
    "import cv2\n",
    "import numpy as np\n",
    "from PIL import Image\n",
    "import matplotlib.pyplot as plt\n",
    "import faiss\n",
    "import glob\n",
    "import os\n",
    "import tqdm\n",
    "# 导入自定义特征提取类\n",
    "from tools.feature_extract import SwinTransformer, Data_Processor\n"
   ]
  },
  {
   "cell_type": "code",
   "execution_count": 59,
   "metadata": {},
   "outputs": [],
   "source": [
    "# 实例化\n",
    "data_processor = Data_Processor(height=224, width=224)\n",
    "model = SwinTransformer(num_features=512).cuda()"
   ]
  },
  {
   "cell_type": "code",
   "execution_count": 60,
   "metadata": {},
   "outputs": [],
   "source": [
    "# model.eval()"
   ]
  },
  {
   "cell_type": "code",
   "execution_count": 61,
   "metadata": {},
   "outputs": [
    {
     "data": {
      "text/plain": [
       "<All keys matched successfully>"
      ]
     },
     "execution_count": 61,
     "metadata": {},
     "output_type": "execute_result"
    }
   ],
   "source": [
    "# 加载权重\n",
    "weight_path = 'weights/swin_base_patch4_window7_224.pth'\n",
    "weight = torch.load(weight_path)\n",
    "model.load_state_dict(weight['state_dict'], strict=True)"
   ]
  },
  {
   "cell_type": "code",
   "execution_count": 62,
   "metadata": {},
   "outputs": [],
   "source": [
    "# 提取特征函数\n",
    "def getImgFeat(img_file):\n",
    "    # PIL read image\n",
    "    img = Image.open(img_file).convert(\"RGB\")  # 读取图片，转换为RGB\n",
    "    img = data_processor(img).cuda()  # 数据预处理\n",
    "    feat = F.normalize(model(img), dim=1).cpu()  # 使用F.normalize对特征进行L2归一化\n",
    "    return feat"
   ]
  },
  {
   "cell_type": "code",
   "execution_count": 63,
   "metadata": {},
   "outputs": [
    {
     "name": "stderr",
     "output_type": "stream",
     "text": [
      "遍历图片: 100%|██████████| 18/18 [00:02<00:00,  6.56it/s]\n"
     ]
    }
   ],
   "source": [
    "# 遍历图片，提取特征\n",
    "imgs_path = glob.glob(\"selected_imgs/*.jpg\")\n",
    "feats_list = []\n",
    "names_list = []\n",
    "for imgPath in tqdm.tqdm(imgs_path, desc=\"遍历图片\"):\n",
    "    with torch.no_grad():\n",
    "        feat = getImgFeat(imgPath)\n",
    "    name = imgPath.split(os.sep)[-1].split(\".jpg\")[0]\n",
    "    feats_list.append(feat)\n",
    "    names_list.append(name)\n",
    "    \n",
    "feats_list = torch.cat(feats_list, 0) # 将所有特征拼接起来\n",
    "    # print(feat.shape)\n",
    "    # print(name) \n",
    "    # break\n",
    "# feats_list.shape"
   ]
  },
  {
   "cell_type": "code",
   "execution_count": 64,
   "metadata": {},
   "outputs": [],
   "source": [
    "# 将文件名列表存入numpy\n",
    "names_list = np.array(names_list)\n",
    "np.save(\"weights/names_list.npy\", names_list)"
   ]
  },
  {
   "cell_type": "code",
   "execution_count": 65,
   "metadata": {},
   "outputs": [],
   "source": [
    "# faiss数据库\n",
    "# 创建索引\n",
    "index = faiss.IndexFlatIP(512)\n",
    "# feats_list转为np格式，再添加到faiss中\n",
    "feats_list = np.array(feats_list)\n",
    "index.add(feats_list)"
   ]
  },
  {
   "cell_type": "code",
   "execution_count": 66,
   "metadata": {},
   "outputs": [],
   "source": [
    "# save index\n",
    "faiss.write_index(index, 'weights/index_idols.index')"
   ]
  },
  {
   "cell_type": "code",
   "execution_count": 67,
   "metadata": {},
   "outputs": [],
   "source": [
    "# read index\n",
    "index = faiss.read_index('weights/index_idols.index')"
   ]
  },
  {
   "cell_type": "code",
   "execution_count": 68,
   "metadata": {},
   "outputs": [
    {
     "name": "stdout",
     "output_type": "stream",
     "text": [
      "[[0.9999996  0.57087135 0.5184952  0.4959144 ]\n",
      " [1.0000002  0.7903343  0.7590165  0.68499094]\n",
      " [1.0000007  0.7808845  0.7530099  0.69316435]\n",
      " [0.99999946 0.70542264 0.68893516 0.6724826 ]]\n",
      "[[ 0  6  5 13]\n",
      " [ 1 13  5  8]\n",
      " [ 2 13  8  5]\n",
      " [ 3 15  5  8]]\n"
     ]
    }
   ],
   "source": [
    "# 简单测试一下\n",
    "k = 4\n",
    "D,I = index.search(feats_list[:4],k)\n",
    "print(D)\n",
    "print(I)"
   ]
  },
  {
   "cell_type": "code",
   "execution_count": 69,
   "metadata": {},
   "outputs": [],
   "source": [
    "# 查询\n",
    "query_img = imgs_path[0]\n",
    "with torch.no_grad():\n",
    "    feat_query = getImgFeat(query_img)\n",
    "feat_query_np = feat_query.numpy()"
   ]
  },
  {
   "cell_type": "code",
   "execution_count": 70,
   "metadata": {},
   "outputs": [
    {
     "data": {
      "text/plain": [
       "(1, 512)"
      ]
     },
     "execution_count": 70,
     "metadata": {},
     "output_type": "execute_result"
    }
   ],
   "source": [
    "feat_query_np.shape"
   ]
  },
  {
   "cell_type": "code",
   "execution_count": 71,
   "metadata": {},
   "outputs": [
    {
     "name": "stdout",
     "output_type": "stream",
     "text": [
      "(2,) (1,) (1,)\n",
      "[0 1]\n",
      "[0]\n",
      "[0.91487265]\n"
     ]
    }
   ],
   "source": [
    "# 查询相似度在0.8以上的图片\n",
    "threshold = 0.8\n",
    "lims, D, I = index.range_search(feat_query_np, threshold) \n",
    "print(lims.shape, D.shape, I.shape)\n",
    "print(lims)\n",
    "print(I)\n",
    "print(D)"
   ]
  },
  {
   "cell_type": "code",
   "execution_count": 72,
   "metadata": {},
   "outputs": [
    {
     "name": "stdout",
     "output_type": "stream",
     "text": [
      "[[0.91487265 0.66761667 0.58117217 0.5723569 ]]\n",
      "[[ 0  6  5 17]]\n"
     ]
    }
   ],
   "source": [
    "D,I = index.search(feat_query_np,k)\n",
    "print(D)\n",
    "print(I)"
   ]
  },
  {
   "cell_type": "code",
   "execution_count": null,
   "metadata": {},
   "outputs": [],
   "source": []
  }
 ],
 "metadata": {
  "kernelspec": {
   "display_name": "cv13_imgSearch",
   "language": "python",
   "name": "python3"
  },
  "language_info": {
   "codemirror_mode": {
    "name": "ipython",
    "version": 3
   },
   "file_extension": ".py",
   "mimetype": "text/x-python",
   "name": "python",
   "nbconvert_exporter": "python",
   "pygments_lexer": "ipython3",
   "version": "3.8.18"
  }
 },
 "nbformat": 4,
 "nbformat_minor": 2
}
