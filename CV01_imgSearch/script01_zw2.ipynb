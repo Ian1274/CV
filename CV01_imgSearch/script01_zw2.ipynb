{
 "cells": [
  {
   "cell_type": "markdown",
   "metadata": {},
   "source": [
    "# 1、将文件夹下的所有文件改为英文名称"
   ]
  },
  {
   "cell_type": "code",
   "execution_count": 1,
   "metadata": {},
   "outputs": [],
   "source": [
    "import numpy as np\n",
    "import glob\n",
    "import os\n",
    "import tqdm\n",
    "import pypinyin"
   ]
  },
  {
   "cell_type": "code",
   "execution_count": 2,
   "metadata": {},
   "outputs": [],
   "source": [
    "filesPath = \"selected_imgs\""
   ]
  },
  {
   "cell_type": "code",
   "execution_count": 3,
   "metadata": {},
   "outputs": [],
   "source": [
    "def hanYu2pinYin(words_hanYu):\n",
    "    pinYin = ''\n",
    "    for i in pypinyin.pinyin(words_hanYu, style=pypinyin.NORMAL):\n",
    "        pinYin += ''.join(i)\n",
    "    return pinYin"
   ]
  },
  {
   "cell_type": "code",
   "execution_count": 4,
   "metadata": {},
   "outputs": [],
   "source": [
    "def batch_rename_files(files_path):\n",
    "    for filesName in tqdm.tqdm(os.listdir(files_path)):\n",
    "        if filesName.endswith(\".jpg\"):  # 仅重命名txt文件\n",
    "            oldName = filesName.split('.jpg')[0]\n",
    "            newName = hanYu2pinYin(oldName)\n",
    "            old_path = os.path.join(files_path, oldName) + '.jpg'  \n",
    "            new_path = os.path.join(files_path, newName) + '.jpg'  \n",
    "            os.rename(old_path, new_path)  "
   ]
  },
  {
   "cell_type": "code",
   "execution_count": 5,
   "metadata": {},
   "outputs": [
    {
     "name": "stderr",
     "output_type": "stream",
     "text": [
      "100%|██████████| 19/19 [00:00<00:00, 3813.19it/s]\n"
     ]
    }
   ],
   "source": [
    "batch_rename_files(filesPath)"
   ]
  },
  {
   "cell_type": "code",
   "execution_count": null,
   "metadata": {},
   "outputs": [],
   "source": []
  }
 ],
 "metadata": {
  "kernelspec": {
   "display_name": "cv13_imgSearch",
   "language": "python",
   "name": "python3"
  },
  "language_info": {
   "codemirror_mode": {
    "name": "ipython",
    "version": 3
   },
   "file_extension": ".py",
   "mimetype": "text/x-python",
   "name": "python",
   "nbconvert_exporter": "python",
   "pygments_lexer": "ipython3",
   "version": "3.8.18"
  }
 },
 "nbformat": 4,
 "nbformat_minor": 2
}
